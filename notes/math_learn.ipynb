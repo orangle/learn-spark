{
 "cells": [
  {
   "cell_type": "markdown",
   "metadata": {},
   "source": [
    "## 线性代数"
   ]
  },
  {
   "cell_type": "code",
   "execution_count": 6,
   "metadata": {},
   "outputs": [],
   "source": [
    "def vector_add(v, w):\n",
    "    return [vi + wi for vi, wi in zip(v, w)]\n",
    "\n",
    "def vector_subtract(v, w):\n",
    "    return [vi - wi for vi, wi in zip(v, w)]\n",
    "\n",
    "def vector_sum(vectors):\n",
    "    return reduce(vector_add, vectors)\n",
    "\n",
    "def scalar_multiply(c, v):\n",
    "    return [c * vi for vi in v]\n",
    "\n",
    "def vector_mean(vs):\n",
    "    return scalar_multiply(1/len(vs), vector_sum(vs))\n",
    "\n",
    "def dot(v, w):\n",
    "    return [vi*wi for vi, wi in zip(v, w)]\n",
    "\n",
    "def sum_of_squares(v):\n",
    "    return dot(v, v)"
   ]
  },
  {
   "cell_type": "code",
   "execution_count": 8,
   "metadata": {},
   "outputs": [],
   "source": [
    "import math \n",
    "\n",
    "# 计算向量的大小\n",
    "def magnitude(v):\n",
    "    return math.sqrt(sum_of_squares(v))\n",
    "\n",
    "def squared_distance(v, w):\n",
    "    \"\"\"\n",
    "    (v1 - w1)**2 + (v2 - w2)**2 + ...\n",
    "    \"\"\"\n",
    "    return sum_of_squares(vector_subtract(v, w))\n",
    "\n",
    "def distance(v, w):\n",
    "    return magnitude(vector_subtract(v, w))"
   ]
  },
  {
   "cell_type": "markdown",
   "metadata": {},
   "source": [
    "### 矩阵"
   ]
  },
  {
   "cell_type": "code",
   "execution_count": 4,
   "metadata": {},
   "outputs": [
    {
     "name": "stdout",
     "output_type": "stream",
     "text": [
      "(2, 3)\n",
      "(3, 2)\n"
     ]
    }
   ],
   "source": [
    "A = [[1, 2, 3],\n",
    "     [4, 5, 6]]\n",
    "\n",
    "B = [[1, 2],\n",
    "     [3, 4],\n",
    "     [5, 6]]\n",
    "\n",
    "def shape(A):\n",
    "    rows = len(A)\n",
    "    cols = len(A[0]) if A else 0\n",
    "    return rows, cols\n",
    "\n",
    "print(shape(A))\n",
    "print(shape(B))\n",
    "\n"
   ]
  },
  {
   "cell_type": "markdown",
   "metadata": {},
   "source": [
    "### 统计学"
   ]
  },
  {
   "cell_type": "code",
   "execution_count": 1,
   "metadata": {},
   "outputs": [],
   "source": [
    "# 均值\n",
    "\n",
    "def mean(x):\n",
    "    return sum(x) / len(x)"
   ]
  },
  {
   "cell_type": "code",
   "execution_count": 2,
   "metadata": {},
   "outputs": [],
   "source": [
    "# 中位数\n",
    "def median(v):\n",
    "    n = len(v)\n",
    "    sorted_v = sorted(v)\n",
    "    mid = n // 2\n",
    "    \n",
    "    if n % 2 == 1:\n",
    "        return v[mid]\n",
    "    else:\n",
    "        # 如果是偶数 返回中间2个说的均值\n",
    "        lo = mid - 1\n",
    "        hi = mid \n",
    "        return (sorted_v[lo] + sorted_v[hi])"
   ]
  },
  {
   "cell_type": "code",
   "execution_count": 3,
   "metadata": {},
   "outputs": [],
   "source": [
    "# 分位数\n",
    "def quantile(x, p):\n",
    "    p_index = int(p * len(x))\n",
    "    return sorted(x)[p_index]"
   ]
  },
  {
   "cell_type": "markdown",
   "metadata": {},
   "source": [
    "### 离散度"
   ]
  },
  {
   "cell_type": "code",
   "execution_count": 5,
   "metadata": {},
   "outputs": [],
   "source": [
    "# 极差\n",
    "def data_range(x):\n",
    "    return max(x) - min(x)"
   ]
  },
  {
   "cell_type": "code",
   "execution_count": 7,
   "metadata": {},
   "outputs": [],
   "source": [
    "# 方差\n",
    "def de_mean(x):\n",
    "    mean_data = mean(x)\n",
    "    return [i - mean_data for i in x]\n",
    "\n",
    "def variance(x):\n",
    "    n = len(x)\n",
    "    deviations = de_mean(x)\n",
    "    return sum_of_squares(deviations) / (n - 1)"
   ]
  },
  {
   "cell_type": "code",
   "execution_count": 9,
   "metadata": {},
   "outputs": [],
   "source": [
    "# 标准差\n",
    "def standard_deviation(x):\n",
    "    return math.sqrt(variance(x))"
   ]
  },
  {
   "cell_type": "code",
   "execution_count": 11,
   "metadata": {},
   "outputs": [],
   "source": [
    "# 稳健的算法\n",
    "def interquartile_range(x):\n",
    "    # %75 和 25% 分位差\n",
    "    return quantile(x, 0.75) - quantile(x, 0.25)"
   ]
  },
  {
   "cell_type": "markdown",
   "metadata": {},
   "source": [
    "方差衡量了单个变量对均值的偏离程度，而协方差衡量了两个变量对均值的串联偏离程度"
   ]
  },
  {
   "cell_type": "code",
   "execution_count": 13,
   "metadata": {},
   "outputs": [],
   "source": [
    "# 协方差\n",
    "def covariance(x, y):\n",
    "    n = len(x)\n",
    "    return dot(de_mean(x), de_mean(y)) / (n - 1)"
   ]
  },
  {
   "cell_type": "code",
   "execution_count": 14,
   "metadata": {},
   "outputs": [],
   "source": [
    "# 相关\n",
    "def correlation(x, y):\n",
    "    stdev_x = standard_deviation(x)\n",
    "    stdev_y = standard_deviation(y)\n",
    "    if stdev_x > 0 and stdev_y > 0:\n",
    "        return covariance(x, y) / stdev_x / stdev_y\n",
    "    else:\n",
    "        return 0"
   ]
  },
  {
   "cell_type": "code",
   "execution_count": null,
   "metadata": {},
   "outputs": [],
   "source": []
  }
 ],
 "metadata": {
  "kernelspec": {
   "display_name": "Python 3",
   "language": "python",
   "name": "python3"
  },
  "language_info": {
   "codemirror_mode": {
    "name": "ipython",
    "version": 3
   },
   "file_extension": ".py",
   "mimetype": "text/x-python",
   "name": "python",
   "nbconvert_exporter": "python",
   "pygments_lexer": "ipython3",
   "version": "3.6.3"
  }
 },
 "nbformat": 4,
 "nbformat_minor": 2
}
